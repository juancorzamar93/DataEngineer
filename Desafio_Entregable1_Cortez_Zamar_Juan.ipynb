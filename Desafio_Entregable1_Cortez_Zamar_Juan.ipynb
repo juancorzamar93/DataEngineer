{
 "cells": [
  {
   "cell_type": "markdown",
   "id": "02084550",
   "metadata": {},
   "source": [
    "## Data Engineer CODERHOUSE\n",
    "\n",
    "### Desafio Entregable N° 1\n",
    "\n",
    "#### Alumno: Juan Cortez Zamar\n"
   ]
  },
  {
   "cell_type": "code",
   "execution_count": 27,
   "id": "70f1a341",
   "metadata": {},
   "outputs": [],
   "source": [
    "# Importacion de librerías\n",
    "import os\n",
    "import requests\n",
    "import urllib.parse\n",
    "import psycopg2 \n",
    "import json      "
   ]
  },
  {
   "cell_type": "code",
   "execution_count": 24,
   "id": "bca765c3",
   "metadata": {},
   "outputs": [],
   "source": [
    "# Obtener las credenciales de las variables de entorno\n",
    "db_user = os.environ.get(\"DB_USER\")\n",
    "db_password = os.environ.get(\"DB_PASSWORD_redshift\")"
   ]
  },
  {
   "cell_type": "code",
   "execution_count": 25,
   "id": "77b96545",
   "metadata": {},
   "outputs": [],
   "source": [
    "#Credenciales de conexion a la DB Amazon redshift\n",
    "db_credentials = {\n",
    "    \"dbname\": \"data-engineer-database\",\n",
    "    \"user\": \"juanzamar93_coderhouse\",\n",
    "    \"password\": \"DB_PASSWORD_redshift\",\n",
    "    \"host\": \"data-engineer-cluster.cyhh5bfevlmn.us-east-1.redshift.amazonaws.com\",\n",
    "    \"port\": \"5439\"\n",
    "} "
   ]
  },
  {
   "cell_type": "code",
   "execution_count": 28,
   "id": "972b750f",
   "metadata": {},
   "outputs": [],
   "source": [
    "#Funcion wrapper para construir llamada a API\n",
    "def get_api_call(ids, **kwargs):\n",
    "    API_BASE_URL = \"https://apis.datos.gob.ar/series/api/\"\n",
    "    kwargs[\"ids\"] = \",\".join(ids)\n",
    "    return \"{}{}?{}\".format(API_BASE_URL, \"series\", urllib.parse.urlencode(kwargs))"
   ]
  },
  {
   "cell_type": "code",
   "execution_count": 29,
   "id": "e9812f41",
   "metadata": {},
   "outputs": [
    {
     "name": "stdout",
     "output_type": "stream",
     "text": [
      "https://apis.datos.gob.ar/series/api/series?ids=116.1_TCREU_0_A_31\n"
     ]
    }
   ],
   "source": [
    "#Creacion de link API\n",
    "api_call = get_api_call([\"116.1_TCREU_0_A_31\"])\n",
    "print(api_call)"
   ]
  },
  {
   "cell_type": "code",
   "execution_count": 30,
   "id": "c3ed1cc8",
   "metadata": {},
   "outputs": [
    {
     "name": "stdout",
     "output_type": "stream",
     "text": [
      "{'data': [['1997-01-01', 70.70806974084586], ['1998-01-01', 71.2376144786818], ['1999-01-01', 73.561836258606], ['2000-01-01', 76.7666512361685], ['2001-01-01', 79.81073692170287], ['2002-01-01', 207.72631242116992], ['2003-01-01', 171.74262524666574], ['2004-01-01', 168.42211553552156], ['2005-01-01', 158.21676084113503], ['2006-01-01', 154.7778463862826], ['2007-01-01', 139.51423127726346], ['2008-01-01', 118.6934044838304], ['2009-01-01', 121.10567258195714], ['2010-01-01', 103.1626916141891], ['2011-01-01', 90.4577381137624], ['2012-01-01', 82.17293108762031], ['2013-01-01', 80.06689192928053], ['2014-01-01', 86.46668645036907], ['2015-01-01', 77.57421432063315], ['2016-01-01', 89.89837383757545], ['2017-01-01', 81.5841816694005], ['2018-01-01', 104.60265853333952], ['2019-01-01', 120.4678316885819], ['2020-01-01', 125.77556315208332], ['2021-01-01', 120.50833333333334], ['2022-01-01', 104.89166666666668]], 'count': 26, 'meta': [{'frequency': 'year', 'start_date': '1997-01-01', 'end_date': '2022-01-01'}, {'catalog': {'title': 'Datos Programación Macroeconómica'}, 'dataset': {'title': 'Índice de Tipo de Cambio Real Multilateral Base 17 de Diciembre de 2015 = 100', 'description': 'Índice de Tipo de Cambio Real Multilateral Base 17 de Diciembre de 2015 = 100', 'issued': '2017-09-28', 'source': 'Banco Central de la República Argentina (BCRA)'}, 'distribution': {'title': 'Índice de Tipo de Cambio Real Multilateral. Valores anuales. Base 2015', 'downloadURL': 'https://infra.datos.gob.ar/catalog/sspm/dataset/116/distribution/116.1/download/indice-tipo-cambio-real-multilateral-anual-base-2015.csv'}, 'field': {'description': 'Índice de Tipo de Cambio Real Estados Unidos', 'id': '116.1_TCREU_0_A_31', 'units': 'Índice 17-Dic-2015=100', 'representation_mode': 'value', 'representation_mode_units': 'Índice 17-Dic-2015=100'}}], 'params': {'ids': '116.1_TCREU_0_A_31', 'identifiers': [{'id': '116.1_TCREU_0_A_31', 'distribution': '116.1', 'dataset': '116'}]}}\n"
     ]
    }
   ],
   "source": [
    "#Obtener la respuesta en un diccionario\n",
    "result = requests.get(api_call).json()\n",
    "print(result)"
   ]
  },
  {
   "cell_type": "code",
   "execution_count": 31,
   "id": "c39c21cf",
   "metadata": {},
   "outputs": [],
   "source": [
    "# Declaración del endpoint de la API pública\n",
    "api_endpoint = \"https://apis.datos.gob.ar/series/api/series?ids=116.1_TCREU_0_A_31\""
   ]
  },
  {
   "cell_type": "code",
   "execution_count": 39,
   "id": "eb20143d",
   "metadata": {},
   "outputs": [],
   "source": [
    "# Begin del programa\n",
    "def main():\n",
    "    #try:\n",
    "        # Pegarle al endpoint\n",
    "        response = requests.get(api_endpoint)\n",
    "        \n",
    "        # Trabajar el response para quedarse con datos de interés\n",
    "        data = response.json()  # Suponiendo que la respuesta es en JSON\n",
    "        \n",
    "        \n",
    "#         # Gestionar la creación/conexión con la tabla de Redshift\n",
    "#         conn = psycopg2.connect(**db_credentials)\n",
    "#         cursor = conn.cursor()\n",
    "        \n",
    "#         # Insertar los datos en Redshift\n",
    "#         for entry in data:\n",
    "#             # Realizar el INSERT en la tabla de Redshift\n",
    "#             insert_query = \"INSERT INTO tu_tabla (columna1, columna2) VALUES (%s, %s)\"\n",
    "#             cursor.execute(insert_query, (entry['valor1'], entry['valor2']))\n",
    "        \n",
    "#         conn.commit()  # Guardar los cambios\n",
    "#         conn.close()   # Cerrar la conexión\n",
    "        \n",
    "#      except Exception as e:\n",
    "#          print(\"Ocurrió un error:\", e)\n",
    "\n",
    "#  if __name__ == \"__main__\":\n",
    "#      main()\n"
   ]
  }
 ],
 "metadata": {
  "kernelspec": {
   "display_name": "Python 3 (ipykernel)",
   "language": "python",
   "name": "python3"
  },
  "language_info": {
   "codemirror_mode": {
    "name": "ipython",
    "version": 3
   },
   "file_extension": ".py",
   "mimetype": "text/x-python",
   "name": "python",
   "nbconvert_exporter": "python",
   "pygments_lexer": "ipython3",
   "version": "3.9.7"
  }
 },
 "nbformat": 4,
 "nbformat_minor": 5
}
